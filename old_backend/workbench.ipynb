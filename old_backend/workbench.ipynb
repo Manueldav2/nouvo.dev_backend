{
 "cells": [
  {
   "cell_type": "code",
   "execution_count": 1,
   "metadata": {},
   "outputs": [],
   "source": [
    "from firebase_init import db"
   ]
  },
  {
   "cell_type": "code",
   "execution_count": 3,
   "metadata": {},
   "outputs": [],
   "source": [
    "item = {\n",
    "    \"name\": \"item\",\n",
    "    \"description\": \"item description\",\n",
    "    \"category\": \"category\"\n",
    "}"
   ]
  },
  {
   "cell_type": "code",
   "execution_count": 9,
   "metadata": {},
   "outputs": [
    {
     "data": {
      "text/plain": [
       "update_time {\n",
       "  seconds: 1735785932\n",
       "  nanos: 117379000\n",
       "}"
      ]
     },
     "execution_count": 9,
     "metadata": {},
     "output_type": "execute_result"
    }
   ],
   "source": [
    "db.collection('messages').document('testing').set(item)"
   ]
  },
  {
   "cell_type": "code",
   "execution_count": 5,
   "metadata": {},
   "outputs": [],
   "source": [
    "lists = [\n",
    "    {\n",
    "        \"name\": \"Today_Tasks\",\n",
    "        \"tasks\": [\n",
    "            \"task1\",\n",
    "            \"task2\",\n",
    "            \"task3\"\n",
    "        ]\n",
    "    },\n",
    "    {\n",
    "        \"name\": \"Tomorrow_Tasks\",\n",
    "        \"tasks\": [\n",
    "            \"task1\",\n",
    "            \"task2\",\n",
    "            \"task3\"\n",
    "        ]\n",
    "    }\n",
    "]\n"
   ]
  },
  {
   "cell_type": "code",
   "execution_count": 6,
   "metadata": {},
   "outputs": [],
   "source": [
    "for list_item in lists:\n",
    "    db.collection('todolist').document(list_item['name']).set(list_item)"
   ]
  },
  {
   "cell_type": "code",
   "execution_count": null,
   "metadata": {},
   "outputs": [],
   "source": [
    "db.collection('todolist').document('Today_Tasks').set()"
   ]
  },
  {
   "cell_type": "code",
   "execution_count": 8,
   "metadata": {},
   "outputs": [],
   "source": [
    "db_lists =db.collection('todolist').get()"
   ]
  },
  {
   "cell_type": "code",
   "execution_count": 10,
   "metadata": {},
   "outputs": [
    {
     "name": "stdout",
     "output_type": "stream",
     "text": [
      "{'tasks': ['task1', 'task2', 'task3'], 'name': 'Today_Tasks'}\n",
      "{'tasks': ['task1', 'task2', 'task3'], 'name': 'Tomorrow_Tasks'}\n"
     ]
    }
   ],
   "source": [
    "for list_item in db_lists:\n",
    "    print(list_item.to_dict())"
   ]
  }
 ],
 "metadata": {
  "kernelspec": {
   "display_name": "Python 3",
   "language": "python",
   "name": "python3"
  },
  "language_info": {
   "codemirror_mode": {
    "name": "ipython",
    "version": 3
   },
   "file_extension": ".py",
   "mimetype": "text/x-python",
   "name": "python",
   "nbconvert_exporter": "python",
   "pygments_lexer": "ipython3",
   "version": "3.13.0"
  }
 },
 "nbformat": 4,
 "nbformat_minor": 2
}
